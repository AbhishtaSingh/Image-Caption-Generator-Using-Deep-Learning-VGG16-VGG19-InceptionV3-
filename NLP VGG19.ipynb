{
 "cells": [
  {
   "cell_type": "code",
   "execution_count": 11,
   "metadata": {},
   "outputs": [],
   "source": [
    "from keras.applications.vgg19 import VGG19\n",
    "from keras.preprocessing.image import load_img\n",
    "from keras.preprocessing.image import img_to_array\n",
    "from keras.applications.vgg19 import preprocess_input\n",
    "from keras.models import Model\n",
    "import os"
   ]
  },
  {
   "cell_type": "code",
   "execution_count": 12,
   "metadata": {},
   "outputs": [],
   "source": [
    "token_path = \"Flickr8k.token.txt\"\n",
    "train_images_path = \"Flickr_8k.trainImages.txt\"\n",
    "test_images_path = \"Flickr_8k.testImages.txt\"\n",
    "images_path = r\"C:\\Users\\Abhishta\\Desktop\\Image Caption Generator\\Flicker8K_Dataset\""
   ]
  },
  {
   "cell_type": "code",
   "execution_count": 13,
   "metadata": {},
   "outputs": [],
   "source": [
    "# load the caption file & read it\n",
    "def load_caption_file(path):\n",
    "    \n",
    "    # dictionary to store captions\n",
    "    captions_dict = {}\n",
    "    \n",
    "    # iterate through the file\n",
    "    for caption in open(path):\n",
    "    \n",
    "        # caption has format-> 109202801_c6381eef15.jpg#0  Two draft horses pull a cart through the snow .\n",
    "        tokens = caption.split()\n",
    "        caption_id, caption_text = tokens[0].split('.')[0], tokens[1:]\n",
    "        caption_text = ' '.join(caption_text)\n",
    "        \n",
    "        # save it in the captions dictionary\n",
    "        if caption_id not in captions_dict:\n",
    "            captions_dict[caption_id] = caption_text\n",
    "        \n",
    "    return captions_dict\n",
    "\n",
    "# call the function\n",
    "captions_dict = load_caption_file(\"captions.txt\")"
   ]
  },
  {
   "cell_type": "code",
   "execution_count": 14,
   "metadata": {},
   "outputs": [],
   "source": [
    "# clean the captions\n",
    "import string\n",
    "\n",
    "# dictionary to store the cleaned captions\n",
    "new_captions_dict = {}\n",
    "\n",
    "# prepare translation table for removing punctuation. third argument is the list of punctuations we want to remove\n",
    "table = str.maketrans('', '', string.punctuation)\n",
    "\n",
    "# loop through the dictionary\n",
    "for caption_id, caption_text in captions_dict.items():\n",
    "    # tokenize the caption_text\n",
    "    caption_text = caption_text.split()\n",
    "    # convert it into lower case\n",
    "    caption_text = [token.lower() for token in caption_text]\n",
    "    # remove punctuation from each token\n",
    "    caption_text = [token.translate(table) for token in caption_text]\n",
    "    # remove all the single letter tokens like 'a', 's'\n",
    "    caption_text = [token for token in caption_text if len(token)>1]\n",
    "    # store the cleaned captions\n",
    "    new_captions_dict[caption_id] = 'startseq ' + ' '.join(caption_text) + ' endseq'"
   ]
  },
  {
   "cell_type": "code",
   "execution_count": 15,
   "metadata": {},
   "outputs": [],
   "source": [
    "# delete unwanted \n",
    "del captions_dict"
   ]
  },
  {
   "cell_type": "code",
   "execution_count": 16,
   "metadata": {},
   "outputs": [
    {
     "name": "stdout",
     "output_type": "stream",
     "text": [
      "\"image,caption\" : startseq  endseq\n"
     ]
    }
   ],
   "source": [
    "print('\"' + list(new_captions_dict.keys())[0] + '\"' + ' : ' + new_captions_dict[list(new_captions_dict.keys())[0]])"
   ]
  },
  {
   "cell_type": "code",
   "execution_count": 17,
   "metadata": {},
   "outputs": [
    {
     "data": {
      "text/plain": [
       "8092"
      ]
     },
     "execution_count": 17,
     "metadata": {},
     "output_type": "execute_result"
    }
   ],
   "source": [
    "len(new_captions_dict)"
   ]
  },
  {
   "cell_type": "code",
   "execution_count": 18,
   "metadata": {},
   "outputs": [
    {
     "data": {
      "text/plain": [
       "'1000268201_693b08cb0e'"
      ]
     },
     "execution_count": 18,
     "metadata": {},
     "output_type": "execute_result"
    }
   ],
   "source": [
    "caption_images_list = []\n",
    "\n",
    "image_index = list(new_captions_dict.keys())\n",
    "\n",
    "caption_images_list = [ image.split('.')[0] for image in os.listdir(images_path) if image.split('.')[0] in image_index ]\n",
    "caption_images_list[0]"
   ]
  },
  {
   "cell_type": "code",
   "execution_count": 19,
   "metadata": {},
   "outputs": [
    {
     "data": {
      "text/plain": [
       "['98377566_e4674d1ebd',\n",
       " '985067019_705fe4a4cc',\n",
       " '987907964_5a06a63609',\n",
       " '989754491_7e53fb4586',\n",
       " '989851184_9ef368e520',\n",
       " '990890291_afc72be141',\n",
       " '99171998_7cc800ceef',\n",
       " '99679241_adc853a5c0',\n",
       " '997338199_7343367d7f',\n",
       " '997722733_0cb5439472']"
      ]
     },
     "execution_count": 19,
     "metadata": {},
     "output_type": "execute_result"
    }
   ],
   "source": [
    "train_validate_images = caption_images_list[0:8081]  \n",
    "test_images = caption_images_list[8081:8091]\n",
    "test_images"
   ]
  },
  {
   "cell_type": "code",
   "execution_count": 20,
   "metadata": {},
   "outputs": [],
   "source": [
    "# extract features from each photo in the directory\n",
    "def extract_features(directory, image_keys):\n",
    "    # load the model\n",
    "    model = VGG19()\n",
    "    \n",
    "    # re-structure the model\n",
    "    model = Model(inputs=model.inputs, outputs=model.layers[-2].output)\n",
    "    \n",
    "    # summarize\n",
    "    print(model.summary())\n",
    "    \n",
    "    # extract features from each photo\n",
    "    features = dict()\n",
    "    \n",
    "    for name in image_keys:\n",
    "        \n",
    "        # load an image from file\n",
    "        filename = directory + '/' + name + '.jpg'\n",
    "        \n",
    "        # load the image and convert it into target size of 224*224\n",
    "        image = load_img(filename, target_size=(224, 224))\n",
    "        \n",
    "        # convert the image pixels to a numpy array\n",
    "        image = img_to_array(image)\n",
    "        \n",
    "        # reshape data for the model\n",
    "        image = image.reshape((1, image.shape[0], image.shape[1], image.shape[2]))\n",
    "        \n",
    "        # prepare the image for the VGG model\n",
    "        image = preprocess_input(image)\n",
    "        \n",
    "        # get features\n",
    "        feature = model.predict(image, verbose=0)\n",
    "        \n",
    "        # get image id\n",
    "        image_id = name.split('.')[0]\n",
    "        \n",
    "        # store feature\n",
    "        features[image_id] = feature\n",
    "        \n",
    "#         print('>%s' % name)\n",
    "        \n",
    "\n",
    "    return features"
   ]
  },
  {
   "cell_type": "code",
   "execution_count": 22,
   "metadata": {},
   "outputs": [
    {
     "name": "stdout",
     "output_type": "stream",
     "text": [
      "Model: \"model\"\n",
      "_________________________________________________________________\n",
      " Layer (type)                Output Shape              Param #   \n",
      "=================================================================\n",
      " input_1 (InputLayer)        [(None, 224, 224, 3)]     0         \n",
      "                                                                 \n",
      " block1_conv1 (Conv2D)       (None, 224, 224, 64)      1792      \n",
      "                                                                 \n",
      " block1_conv2 (Conv2D)       (None, 224, 224, 64)      36928     \n",
      "                                                                 \n",
      " block1_pool (MaxPooling2D)  (None, 112, 112, 64)      0         \n",
      "                                                                 \n",
      " block2_conv1 (Conv2D)       (None, 112, 112, 128)     73856     \n",
      "                                                                 \n",
      " block2_conv2 (Conv2D)       (None, 112, 112, 128)     147584    \n",
      "                                                                 \n",
      " block2_pool (MaxPooling2D)  (None, 56, 56, 128)       0         \n",
      "                                                                 \n",
      " block3_conv1 (Conv2D)       (None, 56, 56, 256)       295168    \n",
      "                                                                 \n",
      " block3_conv2 (Conv2D)       (None, 56, 56, 256)       590080    \n",
      "                                                                 \n",
      " block3_conv3 (Conv2D)       (None, 56, 56, 256)       590080    \n",
      "                                                                 \n",
      " block3_conv4 (Conv2D)       (None, 56, 56, 256)       590080    \n",
      "                                                                 \n",
      " block3_pool (MaxPooling2D)  (None, 28, 28, 256)       0         \n",
      "                                                                 \n",
      " block4_conv1 (Conv2D)       (None, 28, 28, 512)       1180160   \n",
      "                                                                 \n",
      " block4_conv2 (Conv2D)       (None, 28, 28, 512)       2359808   \n",
      "                                                                 \n",
      " block4_conv3 (Conv2D)       (None, 28, 28, 512)       2359808   \n",
      "                                                                 \n",
      " block4_conv4 (Conv2D)       (None, 28, 28, 512)       2359808   \n",
      "                                                                 \n",
      " block4_pool (MaxPooling2D)  (None, 14, 14, 512)       0         \n",
      "                                                                 \n",
      " block5_conv1 (Conv2D)       (None, 14, 14, 512)       2359808   \n",
      "                                                                 \n",
      " block5_conv2 (Conv2D)       (None, 14, 14, 512)       2359808   \n",
      "                                                                 \n",
      " block5_conv3 (Conv2D)       (None, 14, 14, 512)       2359808   \n",
      "                                                                 \n",
      " block5_conv4 (Conv2D)       (None, 14, 14, 512)       2359808   \n",
      "                                                                 \n",
      " block5_pool (MaxPooling2D)  (None, 7, 7, 512)         0         \n",
      "                                                                 \n",
      " flatten (Flatten)           (None, 25088)             0         \n",
      "                                                                 \n",
      " fc1 (Dense)                 (None, 4096)              102764544 \n",
      "                                                                 \n",
      " fc2 (Dense)                 (None, 4096)              16781312  \n",
      "                                                                 \n",
      "=================================================================\n",
      "Total params: 139,570,240\n",
      "Trainable params: 139,570,240\n",
      "Non-trainable params: 0\n",
      "_________________________________________________________________\n",
      "None\n"
     ]
    }
   ],
   "source": [
    "# extracting image features for train_validate_images\n",
    "train_validate_features = extract_features(images_path, train_validate_images) "
   ]
  },
  {
   "cell_type": "code",
   "execution_count": 23,
   "metadata": {},
   "outputs": [
    {
     "name": "stdout",
     "output_type": "stream",
     "text": [
      "1000268201_693b08cb0e : [[0.        1.8022311 0.        ... 0.        0.        0.       ]]\n"
     ]
    }
   ],
   "source": [
    "print(\"{} : {}\".format(list(train_validate_features.keys())[0], train_validate_features[list(train_validate_features.keys())[0]] ))"
   ]
  },
  {
   "cell_type": "code",
   "execution_count": 24,
   "metadata": {},
   "outputs": [
    {
     "data": {
      "text/plain": [
       "8081"
      ]
     },
     "execution_count": 24,
     "metadata": {},
     "output_type": "execute_result"
    }
   ],
   "source": [
    "len(train_validate_features)"
   ]
  },
  {
   "cell_type": "code",
   "execution_count": 25,
   "metadata": {},
   "outputs": [],
   "source": [
    "from pickle import dump\n",
    "dump(train_validate_features, open('./train_validate_features.pkl', 'wb'))"
   ]
  },
  {
   "cell_type": "code",
   "execution_count": 26,
   "metadata": {},
   "outputs": [],
   "source": [
    "# load libraries\n",
    "import numpy as np\n",
    "from keras.models import Model, load_model\n",
    "from keras.layers import Input, Dense, Dropout, LSTM, Embedding\n",
    "from keras.preprocessing.text import Tokenizer\n",
    "from keras.preprocessing.sequence import pad_sequences\n",
    "from tensorflow.keras.utils import to_categorical, plot_model\n",
    "from keras.layers.merge import add\n",
    "from keras.callbacks import ModelCheckpoint, EarlyStopping, ReduceLROnPlateau"
   ]
  },
  {
   "cell_type": "code",
   "execution_count": 27,
   "metadata": {},
   "outputs": [
    {
     "data": {
      "text/plain": [
       "8081"
      ]
     },
     "execution_count": 27,
     "metadata": {},
     "output_type": "execute_result"
    }
   ],
   "source": [
    "# make a dictionary of image with caption for train_validate_images\n",
    "train_validate_image_caption = {}\n",
    "\n",
    "for image, caption in new_captions_dict.items():\n",
    "    \n",
    "    # check whether the image is available in both train_validate_images list and train_validate_features dictionary\n",
    "    if image in train_validate_images and image in list(train_validate_features.keys()):\n",
    "        \n",
    "         train_validate_image_caption.update({image : caption})\n",
    "\n",
    "len(train_validate_image_caption)"
   ]
  },
  {
   "cell_type": "code",
   "execution_count": 28,
   "metadata": {},
   "outputs": [
    {
     "data": {
      "text/plain": [
       "'startseq black dog and spotted dog are fighting endseq'"
      ]
     },
     "execution_count": 28,
     "metadata": {},
     "output_type": "execute_result"
    }
   ],
   "source": [
    "list(train_validate_image_caption.values())[1]"
   ]
  },
  {
   "cell_type": "code",
   "execution_count": 29,
   "metadata": {},
   "outputs": [],
   "source": [
    "# initialise tokenizer\n",
    "tokenizer = Tokenizer()\n",
    "\n",
    "# create word count dictionary on the captions list\n",
    "tokenizer.fit_on_texts(list(train_validate_image_caption.values()))\n",
    "\n",
    "# how many words are there in the vocabulary? store the total length in vocab_len and add 1 because word_index starts with 1 not 0 \n",
    "vocab_len = len(tokenizer.word_index) + 1\n",
    "\n",
    "# store the length of the maximum sentence\n",
    "max_len = max(len(train_validate_image_caption[image].split()) for image in train_validate_image_caption)\n",
    "\n",
    "def prepare_data(image_keys):\n",
    "    \n",
    "    # x1 will store the image feature, x2 will store one sequence and y will store the next sequence\n",
    "    x1, x2, y = [], [], []\n",
    "\n",
    "    # iterate through all the images \n",
    "    for image in image_keys:\n",
    "\n",
    "        # store the caption of that image\n",
    "        caption = train_validate_image_caption[image]\n",
    "\n",
    "        # split the image into tokens\n",
    "        caption = caption.split()\n",
    "\n",
    "        # generate integer sequences of the\n",
    "        seq = tokenizer.texts_to_sequences([caption])[0]\n",
    "\n",
    "        length = len(seq)\n",
    "\n",
    "        for i in range(1, length):\n",
    "\n",
    "            x2_seq, y_seq = seq[:i] , seq[i]  \n",
    "\n",
    "            # pad the sequences\n",
    "            x2_seq = pad_sequences([x2_seq], maxlen = max_len)[0]\n",
    "\n",
    "\n",
    "            # encode the output sequence                \n",
    "            y_seq = to_categorical([y_seq], num_classes = vocab_len)[0]\n",
    "\n",
    "            x1.append( train_validate_features[image][0] )\n",
    "\n",
    "            x2.append(x2_seq)\n",
    "\n",
    "            y.append(y_seq)\n",
    "               \n",
    "    return np.array(x1), np.array(x2), np.array(y)"
   ]
  },
  {
   "cell_type": "code",
   "execution_count": 30,
   "metadata": {},
   "outputs": [],
   "source": [
    "train_x1, train_x2, train_y = prepare_data( train_validate_images[0:7081] )\n",
    "validate_x1, validate_x2, validate_y = prepare_data( train_validate_images[7081:8081] )"
   ]
  },
  {
   "cell_type": "code",
   "execution_count": 31,
   "metadata": {},
   "outputs": [
    {
     "data": {
      "text/plain": [
       "71355"
      ]
     },
     "execution_count": 31,
     "metadata": {},
     "output_type": "execute_result"
    }
   ],
   "source": [
    "len(train_x1)"
   ]
  },
  {
   "cell_type": "code",
   "execution_count": 32,
   "metadata": {},
   "outputs": [
    {
     "data": {
      "text/plain": [
       "10160"
      ]
     },
     "execution_count": 32,
     "metadata": {},
     "output_type": "execute_result"
    }
   ],
   "source": [
    "len(validate_x1)"
   ]
  },
  {
   "cell_type": "code",
   "execution_count": 33,
   "metadata": {},
   "outputs": [
    {
     "name": "stdout",
     "output_type": "stream",
     "text": [
      "Model: \"model_1\"\n",
      "__________________________________________________________________________________________________\n",
      " Layer (type)                   Output Shape         Param #     Connected to                     \n",
      "==================================================================================================\n",
      " input_3 (InputLayer)           [(None, 30)]         0           []                               \n",
      "                                                                                                  \n",
      " input_2 (InputLayer)           [(None, 4096)]       0           []                               \n",
      "                                                                                                  \n",
      " embedding (Embedding)          (None, 30, 256)      1143296     ['input_3[0][0]']                \n",
      "                                                                                                  \n",
      " dropout (Dropout)              (None, 4096)         0           ['input_2[0][0]']                \n",
      "                                                                                                  \n",
      " dropout_1 (Dropout)            (None, 30, 256)      0           ['embedding[0][0]']              \n",
      "                                                                                                  \n",
      " dense (Dense)                  (None, 256)          1048832     ['dropout[0][0]']                \n",
      "                                                                                                  \n",
      " lstm (LSTM)                    (None, 256)          525312      ['dropout_1[0][0]']              \n",
      "                                                                                                  \n",
      " add (Add)                      (None, 256)          0           ['dense[0][0]',                  \n",
      "                                                                  'lstm[0][0]']                   \n",
      "                                                                                                  \n",
      " dense_1 (Dense)                (None, 256)          65792       ['add[0][0]']                    \n",
      "                                                                                                  \n",
      " dense_2 (Dense)                (None, 4466)         1147762     ['dense_1[0][0]']                \n",
      "                                                                                                  \n",
      "==================================================================================================\n",
      "Total params: 3,930,994\n",
      "Trainable params: 3,930,994\n",
      "Non-trainable params: 0\n",
      "__________________________________________________________________________________________________\n",
      "None\n"
     ]
    }
   ],
   "source": [
    "# feature extractor model\n",
    "input_1 = Input(shape=(4096,))\n",
    "droplayer = Dropout(0.5)(input_1)\n",
    "denselayer = Dense(256, activation='relu')(droplayer)\n",
    "\n",
    "# sequence model\n",
    "input_2 = Input(shape=(max_len,))\n",
    "embedding = Embedding(vocab_len, 256, mask_zero=True)(input_2)\n",
    "droplayer_ = Dropout(0.5)(embedding)\n",
    "lstm = LSTM(256)(droplayer_)\n",
    "\n",
    "# decoder model\n",
    "decoder1 = add([denselayer, lstm])\n",
    "decoder2 = Dense(256, activation='relu')(decoder1)\n",
    "outputs = Dense(vocab_len, activation='softmax')(decoder2)\n",
    "\n",
    "# tie it together [image, seq] [word]\n",
    "model = Model(inputs=[input_1, input_2], outputs=outputs)\n",
    "model.compile(loss='categorical_crossentropy', optimizer='adam')\n",
    "\n",
    "# summarize model\n",
    "print(model.summary())"
   ]
  },
  {
   "cell_type": "code",
   "execution_count": 34,
   "metadata": {},
   "outputs": [
    {
     "name": "stdout",
     "output_type": "stream",
     "text": [
      "('You must install pydot (`pip install pydot`) and install graphviz (see instructions at https://graphviz.gitlab.io/download/) ', 'for plot_model/model_to_dot to work.')\n"
     ]
    }
   ],
   "source": [
    "plot_model(model, to_file='model.png', show_shapes=True)"
   ]
  },
  {
   "cell_type": "code",
   "execution_count": 35,
   "metadata": {},
   "outputs": [
    {
     "name": "stdout",
     "output_type": "stream",
     "text": [
      "Requirement already satisfied: pydot in c:\\programdata\\anaconda3\\lib\\site-packages (1.4.2)\n",
      "Requirement already satisfied: pyparsing>=2.1.4 in c:\\programdata\\anaconda3\\lib\\site-packages (from pydot) (2.4.2)\n",
      "Note: you may need to restart the kernel to use updated packages.\n"
     ]
    }
   ],
   "source": [
    "pip install pydot"
   ]
  },
  {
   "cell_type": "code",
   "execution_count": 37,
   "metadata": {},
   "outputs": [
    {
     "name": "stdout",
     "output_type": "stream",
     "text": [
      "Requirement already satisfied: graphviz in c:\\programdata\\anaconda3\\lib\\site-packages (0.16)\n",
      "Note: you may need to restart the kernel to use updated packages.\n"
     ]
    }
   ],
   "source": [
    "pip install graphviz"
   ]
  },
  {
   "cell_type": "code",
   "execution_count": 39,
   "metadata": {},
   "outputs": [],
   "source": [
    "# define checkpoint callback\n",
    "filepath = './model-ep{epoch:02d}-loss{loss:.3f}-val_loss{val_loss:.3f}.h5'\n",
    "\n",
    "callbacks = [\n",
    "             ModelCheckpoint(filepath= filepath, save_best_only=True, monitor='val_loss') ]"
   ]
  },
  {
   "cell_type": "code",
   "execution_count": 40,
   "metadata": {},
   "outputs": [
    {
     "name": "stdout",
     "output_type": "stream",
     "text": [
      "shape of train_x1  (71355, 4096)\n",
      "shape of train_x2  (71355, 30)\n",
      "shape of train_y  (71355, 4466)\n",
      "\n",
      "shape of validate_x1  (10160, 4096)\n",
      "shape of validate_x2  (10160, 30)\n",
      "shape of validate_y  (10160, 4466)\n"
     ]
    }
   ],
   "source": [
    "print(\"shape of train_x1 \", train_x1.shape)\n",
    "print(\"shape of train_x2 \", train_x2.shape)\n",
    "print(\"shape of train_y \", train_y.shape)\n",
    "print()\n",
    "print(\"shape of validate_x1 \", validate_x1.shape)\n",
    "print(\"shape of validate_x2 \", validate_x2.shape)\n",
    "print(\"shape of validate_y \", validate_y.shape)"
   ]
  },
  {
   "cell_type": "code",
   "execution_count": 41,
   "metadata": {},
   "outputs": [
    {
     "name": "stdout",
     "output_type": "stream",
     "text": [
      "Epoch 1/20\n",
      "2230/2230 [==============================] - 251s 111ms/step - loss: 5.0537 - val_loss: 4.4831\n"
     ]
    },
    {
     "name": "stderr",
     "output_type": "stream",
     "text": [
      "C:\\Users\\Abhishta\\AppData\\Roaming\\Python\\Python37\\site-packages\\keras\\engine\\functional.py:1410: CustomMaskWarning: Custom mask layers require a config and must override get_config. When loading, the custom mask layer must be passed to the custom_objects argument.\n",
      "  layer_config = serialize_layer_fn(layer)\n"
     ]
    },
    {
     "name": "stdout",
     "output_type": "stream",
     "text": [
      "Epoch 2/20\n",
      "2230/2230 [==============================] - 253s 113ms/step - loss: 4.2247 - val_loss: 4.2939\n",
      "Epoch 3/20\n",
      "2230/2230 [==============================] - 246s 111ms/step - loss: 3.8860 - val_loss: 4.3077\n",
      "Epoch 4/20\n",
      "2230/2230 [==============================] - 240s 108ms/step - loss: 3.6563 - val_loss: 4.2871\n",
      "Epoch 5/20\n",
      "2230/2230 [==============================] - 239s 107ms/step - loss: 3.4822 - val_loss: 4.3396\n",
      "Epoch 6/20\n",
      "2230/2230 [==============================] - 239s 107ms/step - loss: 3.3385 - val_loss: 4.4886\n",
      "Epoch 7/20\n",
      "2230/2230 [==============================] - 240s 108ms/step - loss: 3.2149 - val_loss: 4.6050\n",
      "Epoch 8/20\n",
      "2230/2230 [==============================] - 240s 108ms/step - loss: 3.1086 - val_loss: 4.6444\n",
      "Epoch 9/20\n",
      "2230/2230 [==============================] - 249s 111ms/step - loss: 3.0110 - val_loss: 4.7894\n",
      "Epoch 10/20\n",
      "2230/2230 [==============================] - 246s 110ms/step - loss: 2.9240 - val_loss: 5.0182\n",
      "Epoch 11/20\n",
      "2230/2230 [==============================] - 231s 104ms/step - loss: 2.8442 - val_loss: 5.0287\n",
      "Epoch 12/20\n",
      "2230/2230 [==============================] - 222s 100ms/step - loss: 2.7751 - val_loss: 5.2453\n",
      "Epoch 13/20\n",
      "2230/2230 [==============================] - 246s 110ms/step - loss: 2.7116 - val_loss: 5.3107\n",
      "Epoch 14/20\n",
      "2230/2230 [==============================] - 253s 114ms/step - loss: 2.6526 - val_loss: 5.4805\n",
      "Epoch 15/20\n",
      "2230/2230 [==============================] - 253s 113ms/step - loss: 2.5996 - val_loss: 5.4923\n",
      "Epoch 16/20\n",
      "2230/2230 [==============================] - 243s 109ms/step - loss: 2.5429 - val_loss: 5.6929\n",
      "Epoch 17/20\n",
      "2230/2230 [==============================] - 248s 111ms/step - loss: 2.4969 - val_loss: 5.7388\n",
      "Epoch 18/20\n",
      "2230/2230 [==============================] - 246s 110ms/step - loss: 2.4534 - val_loss: 5.9081\n",
      "Epoch 19/20\n",
      "2230/2230 [==============================] - 229s 103ms/step - loss: 2.4145 - val_loss: 5.9600\n",
      "Epoch 20/20\n",
      "2230/2230 [==============================] - 223s 100ms/step - loss: 2.3767 - val_loss: 6.0385\n"
     ]
    }
   ],
   "source": [
    "# fit model\n",
    "history = model.fit([train_x1, train_x2],  \n",
    "                    train_y,              \n",
    "                    verbose = 1,            \n",
    "                    epochs = 20,            \n",
    "                    callbacks = callbacks, \n",
    "                    validation_data=([validate_x1, validate_x2], validate_y))"
   ]
  },
  {
   "cell_type": "code",
   "execution_count": 53,
   "metadata": {},
   "outputs": [
    {
     "data": {
      "image/png": "[encoded data removed]",
      "text/plain": [
       "<Figure size 432x288 with 1 Axes>"
      ]
     },
     "metadata": {
      "needs_background": "light"
     },
     "output_type": "display_data"
    }
   ],
   "source": [
    "# plot training loss and validation loss\n",
    "import matplotlib.pyplot as plt\n",
    "\n",
    "plt.plot(history.history['loss'])\n",
    "plt.plot(history.history['val_loss'])\n",
    "plt.title('model loss')\n",
    "plt.ylabel('loss')\n",
    "plt.xlabel('epochs')\n",
    "plt.legend(['training', 'validation'], loc='upper right')\n",
    "plt.show()"
   ]
  },
  {
   "cell_type": "code",
   "execution_count": 43,
   "metadata": {},
   "outputs": [
    {
     "name": "stderr",
     "output_type": "stream",
     "text": [
      "C:\\Users\\Abhishta\\AppData\\Roaming\\Python\\Python37\\site-packages\\keras\\engine\\functional.py:1410: CustomMaskWarning: Custom mask layers require a config and must override get_config. When loading, the custom mask layer must be passed to the custom_objects argument.\n",
      "  layer_config = serialize_layer_fn(layer)\n"
     ]
    }
   ],
   "source": [
    "# saving the model with last parameter \n",
    "model.save('./latest_model.h5')"
   ]
  },
  {
   "cell_type": "code",
   "execution_count": 44,
   "metadata": {},
   "outputs": [],
   "source": [
    "# extract features from each photo in the directory\n",
    "def extract_feat(filename):\n",
    "    # load the model\n",
    "    model = VGG19()\n",
    "    # re-structure the model\n",
    "    model = Model(inputs=model.inputs, outputs=model.layers[-2].output)\n",
    "    # load the photo\n",
    "    image = load_img(filename, target_size=(224, 224))\n",
    "    # convert the image pixels to a numpy array\n",
    "    image = img_to_array(image)\n",
    "    # reshape data for the model\n",
    "    image = image.reshape((1, image.shape[0], image.shape[1], image.shape[2]))\n",
    "    # prepare the image for the VGG model\n",
    "    image = preprocess_input(image)\n",
    "    # get features\n",
    "    feature = model.predict(image, verbose=0)\n",
    "    return feature\n",
    "\n",
    "# map an integer to a word\n",
    "def word_for_id(integer, tokenizr):\n",
    "    for word, index in tokenizr.word_index.items():\n",
    "        if index == integer:\n",
    "            return word\n",
    "    return None"
   ]
  },
  {
   "cell_type": "code",
   "execution_count": 45,
   "metadata": {},
   "outputs": [],
   "source": [
    "# generate a description for an image\n",
    "def generate_desc(model, tokenizer, photo, max_length):\n",
    "    # seed the generation process\n",
    "    in_text = 'startseq'\n",
    "    # iterate over the whole length of the sequence\n",
    "    for i in range(max_length):\n",
    "        # integer encode input sequence\n",
    "        sequence = tokenizer.texts_to_sequences([in_text])[0]\n",
    "        # pad input\n",
    "        sequence = pad_sequences([sequence], maxlen=max_length)\n",
    "        # predict next word\n",
    "        yhat = model.predict([photo,sequence], verbose=0)\n",
    "        # convert probability to integer\n",
    "        yhat = np.argmax(yhat)\n",
    "        # map integer to word\n",
    "        word = word_for_id(yhat, tokenizer)\n",
    "        # stop if we cannot map the word\n",
    "        if word is None:\n",
    "            break\n",
    "        # append as input for generating the next word\n",
    "        in_text += ' ' + word\n",
    "        # stop if we predict the end of the sequence\n",
    "        if word == 'endseq':\n",
    "            break\n",
    "    return in_text"
   ]
  },
  {
   "cell_type": "code",
   "execution_count": 48,
   "metadata": {},
   "outputs": [
    {
     "data": {
      "text/plain": [
       "<keras.engine.functional.Functional at 0x179a2836348>"
      ]
     },
     "execution_count": 48,
     "metadata": {},
     "output_type": "execute_result"
    }
   ],
   "source": [
    "import tensorflow\n",
    "tensorflow.keras.applications.VGG19(\n",
    "    include_top=True,\n",
    "    weights=\"imagenet\",\n",
    "    input_tensor=None,\n",
    "    input_shape=None,\n",
    "    pooling=None,\n",
    "    classes=1000,\n",
    "    classifier_activation=\"softmax\",\n",
    ")"
   ]
  },
  {
   "cell_type": "code",
   "execution_count": 49,
   "metadata": {},
   "outputs": [
    {
     "name": "stdout",
     "output_type": "stream",
     "text": [
      "Predicted caption ->  startseq man in black shirt is sitting on bench in front of christmas tree endseq\n",
      "\n",
      "Actual caption ->  startseq child in pink dress is climbing up set of stairs in an entry way endseq\n",
      "*********************************************************************\n",
      "\n",
      "Predicted caption ->  startseq black and white dog is jumping in the air endseq\n",
      "\n",
      "Actual caption ->  startseq black dog and spotted dog are fighting endseq\n",
      "*********************************************************************\n",
      "\n",
      "Predicted caption ->  startseq boy in blue shirt is jumping off the street endseq\n",
      "\n",
      "Actual caption ->  startseq little girl covered in paint sits in front of painted rainbow with her hands in bowl endseq\n",
      "*********************************************************************\n",
      "\n",
      "Predicted caption ->  startseq black and white dog is jumping in the air endseq\n",
      "\n",
      "Actual caption ->  startseq man lays on bench while his dog sits by him endseq\n",
      "*********************************************************************\n",
      "\n",
      "Predicted caption ->  startseq man in black jacket is standing in front of reception lit train endseq\n",
      "\n",
      "Actual caption ->  startseq man in an orange hat starring at something endseq\n",
      "*********************************************************************\n",
      "\n",
      "Predicted caption ->  startseq boy in green shirt is sitting on the grass endseq\n",
      "\n",
      "Actual caption ->  startseq child playing on rope net endseq\n",
      "*********************************************************************\n",
      "\n",
      "Predicted caption ->  startseq black and white dog is running in field endseq\n",
      "\n",
      "Actual caption ->  startseq black and white dog is running in grassy garden surrounded by white fence endseq\n",
      "*********************************************************************\n",
      "\n",
      "Predicted caption ->  startseq brown dog is running through the water endseq\n",
      "\n",
      "Actual caption ->  startseq dog shakes its head near the shore red ball next to it endseq\n",
      "*********************************************************************\n",
      "\n",
      "Predicted caption ->  startseq boy in red shirt is jumping on the street endseq\n",
      "\n",
      "Actual caption ->  startseq boy smiles in front of stony wall in city endseq\n",
      "*********************************************************************\n",
      "\n",
      "Predicted caption ->  startseq black and white dog is running through the grass endseq\n",
      "\n",
      "Actual caption ->  startseq black dog leaps over log endseq\n",
      "*********************************************************************\n",
      "\n"
     ]
    }
   ],
   "source": [
    "from keras.models import load_model\n",
    "# load the model\n",
    "modl = load_model('./latest_model.h5')\n",
    "\n",
    "# generate description\n",
    "tokenizr = Tokenizer()\n",
    "tokenizr.fit_on_texts([caption for image, caption in new_captions_dict.items() if image in train_validate_images])\n",
    "max_length = 30\n",
    "\n",
    "for count in range(10):\n",
    "\n",
    "    photo = extract_feat('{}.jpg'.format(images_path+'/'+train_validate_images[count]))  \n",
    "\n",
    "    # generate description\n",
    "    description = generate_desc(modl, tokenizr, photo, max_length)\n",
    "    print(\"Predicted caption -> \", description)\n",
    "    print()\n",
    "    print(\"Actual caption -> \", new_captions_dict[train_validate_images[count]])\n",
    "    print('*********************************************************************')\n",
    "    print()"
   ]
  },
  {
   "cell_type": "code",
   "execution_count": 50,
   "metadata": {},
   "outputs": [
    {
     "name": "stdout",
     "output_type": "stream",
     "text": [
      "Predicted caption ->  startseq lift brown on goggles and in bicycle endseq\n",
      "\n",
      "Actual caption ->  startseq brown and white dogs lift their ears and look through fence endseq\n",
      "*********************************************************************\n",
      "\n",
      "Predicted caption ->  startseq man and boy grass on surrounded white in in in in in in in in in in in in in in in in in in in in in in in\n",
      "\n",
      "Actual caption ->  startseq boy goes down an inflatable slide endseq\n",
      "*********************************************************************\n",
      "\n",
      "Predicted caption ->  startseq his brown on goggles and in bicycle endseq\n",
      "\n",
      "Actual caption ->  startseq brown and white dog chasing black and white dog through the grass endseq\n",
      "*********************************************************************\n",
      "\n",
      "Predicted caption ->  startseq dogs and in fence and in fence endseq\n",
      "\n",
      "Actual caption ->  startseq girl in pool wearing goggles and surrounded by other children endseq\n",
      "*********************************************************************\n",
      "\n",
      "Predicted caption ->  startseq his brown on goggles and in fence endseq\n",
      "\n",
      "Actual caption ->  startseq black dog has dumbbell in his mouth endseq\n",
      "*********************************************************************\n",
      "\n",
      "Predicted caption ->  startseq black on dumbbell white in walls endseq\n",
      "\n",
      "Actual caption ->  startseq man does wheelie on his bicycle on the sidewalk endseq\n",
      "*********************************************************************\n",
      "\n",
      "Predicted caption ->  startseq black and boy grass on on on on on on on on on on on on on on on on on on on on on on on on on on\n",
      "\n",
      "Actual caption ->  startseq group is sitting around snowy crevasse endseq\n",
      "*********************************************************************\n",
      "\n",
      "Predicted caption ->  startseq his brown on goggles and in fence endseq\n",
      "\n",
      "Actual caption ->  startseq grey bird stands majestically on beach while waves roll in endseq\n",
      "*********************************************************************\n",
      "\n",
      "Predicted caption ->  startseq black and stands grass on surrounded and in in walls endseq\n",
      "\n",
      "Actual caption ->  startseq person stands near golden walls endseq\n",
      "*********************************************************************\n",
      "\n",
      "Predicted caption ->  startseq black and boy grass on dumbbell white in in in in in in in in in in in in in in in in in in in in in in in\n",
      "\n",
      "Actual caption ->  startseq man in pink shirt climbs rock face endseq\n",
      "*********************************************************************\n",
      "\n"
     ]
    }
   ],
   "source": [
    "# load the model\n",
    "modl = load_model('model-ep01-loss5.054-val_loss4.483.h5')\n",
    "\n",
    "# generate description\n",
    "tokenizr = Tokenizer()\n",
    "tokenizr.fit_on_texts([caption for image, caption in new_captions_dict.items() if image in test_images])\n",
    "max_length = 30\n",
    "\n",
    "for count in range(10):\n",
    "\n",
    "    photo = extract_feat('{}.jpg'.format(images_path+'/'+test_images[count]))  \n",
    "\n",
    "    # generate description\n",
    "    description = generate_desc(modl, tokenizr, photo, max_length)\n",
    "    print(\"Predicted caption -> \", description)\n",
    "    print()\n",
    "    print(\"Actual caption -> \", new_captions_dict[test_images[count]])\n",
    "    print('*********************************************************************')\n",
    "    print()"
   ]
  },
  {
   "cell_type": "code",
   "execution_count": 51,
   "metadata": {},
   "outputs": [
    {
     "name": "stdout",
     "output_type": "stream",
     "text": [
      "Predicted caption ->  startseq lift brown on goggles by in bicycle endseq\n",
      "\n",
      "Actual caption ->  startseq brown and white dogs lift their ears and look through fence endseq\n",
      "*********************************************************************\n",
      "\n",
      "Predicted caption ->  startseq man and boy grass on surrounded white in\n",
      "\n",
      "Actual caption ->  startseq boy goes down an inflatable slide endseq\n",
      "*********************************************************************\n",
      "\n",
      "Predicted caption ->  startseq lift brown on goggles by in sidewalk endseq\n",
      "\n",
      "Actual caption ->  startseq brown and white dog chasing black and white dog through the grass endseq\n",
      "*********************************************************************\n",
      "\n",
      "Predicted caption ->  startseq dogs and face grass on wearing and in fence endseq\n",
      "\n",
      "Actual caption ->  startseq girl in pool wearing goggles and surrounded by other children endseq\n",
      "*********************************************************************\n",
      "\n",
      "Predicted caption ->  startseq his brown on goggles by in sidewalk endseq\n",
      "\n",
      "Actual caption ->  startseq black dog has dumbbell in his mouth endseq\n",
      "*********************************************************************\n",
      "\n",
      "Predicted caption ->  startseq black and boy grass on surrounded white in walls endseq\n",
      "\n",
      "Actual caption ->  startseq man does wheelie on his bicycle on the sidewalk endseq\n",
      "*********************************************************************\n",
      "\n",
      "Predicted caption ->  startseq black and boy grass on surrounded white in walls endseq\n",
      "\n",
      "Actual caption ->  startseq group is sitting around snowy crevasse endseq\n",
      "*********************************************************************\n",
      "\n",
      "Predicted caption ->  startseq his brown on goggles by in fence endseq\n",
      "\n",
      "Actual caption ->  startseq grey bird stands majestically on beach while waves roll in endseq\n",
      "*********************************************************************\n",
      "\n",
      "Predicted caption ->  startseq black and his grass on surrounded and in\n",
      "\n",
      "Actual caption ->  startseq person stands near golden walls endseq\n",
      "*********************************************************************\n",
      "\n",
      "Predicted caption ->  startseq black and boy grass on surrounded white in fence endseq\n",
      "\n",
      "Actual caption ->  startseq man in pink shirt climbs rock face endseq\n",
      "*********************************************************************\n",
      "\n"
     ]
    }
   ],
   "source": [
    "# load the model\n",
    "modl = load_model('model-ep02-loss4.225-val_loss4.294.h5')\n",
    "\n",
    "# generate description\n",
    "tokenizr = Tokenizer()\n",
    "tokenizr.fit_on_texts([caption for image, caption in new_captions_dict.items() if image in test_images])\n",
    "max_length = 30\n",
    "\n",
    "for count in range(10):\n",
    "\n",
    "    photo = extract_feat('{}.jpg'.format(images_path+'/'+test_images[count]))  \n",
    "\n",
    "    # generate description\n",
    "    description = generate_desc(modl, tokenizr, photo, max_length)\n",
    "    print(\"Predicted caption -> \", description)\n",
    "    print()\n",
    "    print(\"Actual caption -> \", new_captions_dict[test_images[count]])\n",
    "    print('*********************************************************************')\n",
    "    print()"
   ]
  },
  {
   "cell_type": "code",
   "execution_count": 52,
   "metadata": {},
   "outputs": [
    {
     "name": "stdout",
     "output_type": "stream",
     "text": [
      "Predicted caption ->  startseq lift brown on goggles by in bicycle endseq\n",
      "\n",
      "Actual caption ->  startseq brown and white dogs lift their ears and look through fence endseq\n",
      "*********************************************************************\n",
      "\n",
      "Predicted caption ->  startseq man and slide grass on around white in roll endseq\n",
      "\n",
      "Actual caption ->  startseq boy goes down an inflatable slide endseq\n",
      "*********************************************************************\n",
      "\n",
      "Predicted caption ->  startseq his dog stands brown on goggles by in bicycle endseq\n",
      "\n",
      "Actual caption ->  startseq brown and white dog chasing black and white dog through the grass endseq\n",
      "*********************************************************************\n",
      "\n",
      "Predicted caption ->  startseq man and slide\n",
      "\n",
      "Actual caption ->  startseq girl in pool wearing goggles and surrounded by other children endseq\n",
      "*********************************************************************\n",
      "\n",
      "Predicted caption ->  startseq brown on goggles by in roll endseq\n",
      "\n",
      "Actual caption ->  startseq black dog has dumbbell in his mouth endseq\n",
      "*********************************************************************\n",
      "\n",
      "Predicted caption ->  startseq black and boy grass on\n",
      "\n",
      "Actual caption ->  startseq man does wheelie on his bicycle on the sidewalk endseq\n",
      "*********************************************************************\n",
      "\n",
      "Predicted caption ->  startseq black and boy\n",
      "\n",
      "Actual caption ->  startseq group is sitting around snowy crevasse endseq\n",
      "*********************************************************************\n",
      "\n",
      "Predicted caption ->  startseq his brown on goggles by in fence endseq\n",
      "\n",
      "Actual caption ->  startseq grey bird stands majestically on beach while waves roll in endseq\n",
      "*********************************************************************\n",
      "\n",
      "Predicted caption ->  startseq black and his grass on surrounded white in\n",
      "\n",
      "Actual caption ->  startseq person stands near golden walls endseq\n",
      "*********************************************************************\n",
      "\n",
      "Predicted caption ->  startseq black and boy grass on\n",
      "\n",
      "Actual caption ->  startseq man in pink shirt climbs rock face endseq\n",
      "*********************************************************************\n",
      "\n"
     ]
    }
   ],
   "source": [
    "# load the model\n",
    "modl = load_model('model-ep04-loss3.656-val_loss4.287.h5')\n",
    "\n",
    "# generate description\n",
    "tokenizr = Tokenizer()\n",
    "tokenizr.fit_on_texts([caption for image, caption in new_captions_dict.items() if image in test_images])\n",
    "max_length = 30\n",
    "\n",
    "for count in range(10):\n",
    "\n",
    "    photo = extract_feat('{}.jpg'.format(images_path+'/'+test_images[count]))  \n",
    "\n",
    "    # generate description\n",
    "    description = generate_desc(modl, tokenizr, photo, max_length)\n",
    "    print(\"Predicted caption -> \", description)\n",
    "    print()\n",
    "    print(\"Actual caption -> \", new_captions_dict[test_images[count]])\n",
    "    print('*********************************************************************')\n",
    "    print()"
   ]
  }
 ],
 "metadata": {
  "kernelspec": {
   "display_name": "Python 3",
   "language": "python",
   "name": "python3"
  },
  "language_info": {
   "codemirror_mode": {
    "name": "ipython",
    "version": 3
   },
   "file_extension": ".py",
   "mimetype": "text/x-python",
   "name": "python",
   "nbconvert_exporter": "python",
   "pygments_lexer": "ipython3",
   "version": "3.7.4"
  }
 },
 "nbformat": 4,
 "nbformat_minor": 2
}
